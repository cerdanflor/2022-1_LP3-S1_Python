{
 "cells": [
  {
   "cell_type": "markdown",
   "id": "54b43fe7",
   "metadata": {},
   "source": [
    "# SEMANA 06\n",
    "Mg. Flor Elizabeth Cerdán León"
   ]
  },
  {
   "cell_type": "markdown",
   "id": "3f8744f9",
   "metadata": {},
   "source": [
    "1. Colecciones de Datos"
   ]
  },
  {
   "cell_type": "code",
   "execution_count": 58,
   "id": "03d6a961",
   "metadata": {},
   "outputs": [
    {
     "name": "stdout",
     "output_type": "stream",
     "text": [
      "['Yauricasa', 'Granados', 'Alva', 'Laura']\n"
     ]
    }
   ],
   "source": [
    "# 1.1. Listas\n",
    "# Es una colección de elementos que pueden ser ordenadados, modificados, etc...\n",
    "# Se identifica por los corchetes\n",
    "# Ejempplo:\n",
    "aula = ['Yauricasa', 'Granados', 'Alva', 'Laura']\n",
    "print(aula)\n",
    "    "
   ]
  },
  {
   "cell_type": "code",
   "execution_count": 59,
   "id": "c65a01ce",
   "metadata": {},
   "outputs": [
    {
     "data": {
      "text/plain": [
       "['Yauricasa', 'Granados', 'Alva', 'Laura']"
      ]
     },
     "execution_count": 59,
     "metadata": {},
     "output_type": "execute_result"
    }
   ],
   "source": [
    "aula"
   ]
  },
  {
   "cell_type": "code",
   "execution_count": 60,
   "id": "3fd494ae",
   "metadata": {},
   "outputs": [
    {
     "name": "stdout",
     "output_type": "stream",
     "text": [
      "Yauricasa\n",
      "Granados\n"
     ]
    }
   ],
   "source": [
    "# Podemos extraer cada elemento por su posición\n",
    "print(aula[0])\n",
    "print(aula[1])"
   ]
  },
  {
   "cell_type": "code",
   "execution_count": 61,
   "id": "329480b4",
   "metadata": {},
   "outputs": [
    {
     "data": {
      "text/plain": [
       "'Chavez'"
      ]
     },
     "execution_count": 61,
     "metadata": {},
     "output_type": "execute_result"
    }
   ],
   "source": [
    "# Puedo asignar un valor a una posición de la lista\n",
    "aula[1] = 'Chavez'\n",
    "aula[1]"
   ]
  },
  {
   "cell_type": "code",
   "execution_count": 62,
   "id": "cd6fb4ca",
   "metadata": {},
   "outputs": [
    {
     "data": {
      "text/plain": [
       "['Yauricasa', 'Chavez', 'Alva', 'Laura']"
      ]
     },
     "execution_count": 62,
     "metadata": {},
     "output_type": "execute_result"
    }
   ],
   "source": [
    "# Mostramos como quedó la lista\n",
    "aula"
   ]
  },
  {
   "cell_type": "code",
   "execution_count": 63,
   "id": "f037d799",
   "metadata": {},
   "outputs": [],
   "source": [
    "# Para agregar un elemento utilizamos append\n",
    "aula.append(\"Huaman\")\n",
    "aula.append('Huancas')\n",
    "aula.append('Chavez')"
   ]
  },
  {
   "cell_type": "code",
   "execution_count": 64,
   "id": "b9844981",
   "metadata": {},
   "outputs": [
    {
     "data": {
      "text/plain": [
       "['Yauricasa', 'Chavez', 'Alva', 'Laura', 'Huaman', 'Huancas', 'Chavez']"
      ]
     },
     "execution_count": 64,
     "metadata": {},
     "output_type": "execute_result"
    }
   ],
   "source": [
    "aula"
   ]
  },
  {
   "cell_type": "code",
   "execution_count": 65,
   "id": "4c21a2c9",
   "metadata": {},
   "outputs": [
    {
     "data": {
      "text/plain": [
       "['Chavez', 'Alva', 'Laura', 'Huaman', 'Huancas', 'Chavez']"
      ]
     },
     "execution_count": 65,
     "metadata": {},
     "output_type": "execute_result"
    }
   ],
   "source": [
    "# Para eliminar elementos utilizamos remove[]\n",
    "aula.remove(\"Yauricasa\")\n",
    "aula"
   ]
  },
  {
   "cell_type": "code",
   "execution_count": 66,
   "id": "2b657a3a",
   "metadata": {},
   "outputs": [
    {
     "data": {
      "text/plain": [
       "['Alva', 'Laura', 'Huaman', 'Huancas', 'Chavez']"
      ]
     },
     "execution_count": 66,
     "metadata": {},
     "output_type": "execute_result"
    }
   ],
   "source": [
    "# Si hubiera varios elementos de valores iguales se elimina la primero coincidencia\n",
    "aula.remove(\"Chavez\")\n",
    "aula"
   ]
  },
  {
   "cell_type": "code",
   "execution_count": 67,
   "id": "597ef167",
   "metadata": {},
   "outputs": [
    {
     "data": {
      "text/plain": [
       "5"
      ]
     },
     "execution_count": 67,
     "metadata": {},
     "output_type": "execute_result"
    }
   ],
   "source": [
    "# Para obtener el tamaño utilizamos len()\n",
    "len(aula)"
   ]
  },
  {
   "cell_type": "code",
   "execution_count": 68,
   "id": "3de1e3c6",
   "metadata": {},
   "outputs": [
    {
     "data": {
      "text/plain": [
       "'Huaman'"
      ]
     },
     "execution_count": 68,
     "metadata": {},
     "output_type": "execute_result"
    }
   ],
   "source": [
    "#Eliminar por posición\n",
    "aula.pop(2)"
   ]
  },
  {
   "cell_type": "code",
   "execution_count": 69,
   "id": "eeffc45b",
   "metadata": {},
   "outputs": [
    {
     "data": {
      "text/plain": [
       "['Alva', 'Laura', 'Huancas', 'Chavez']"
      ]
     },
     "execution_count": 69,
     "metadata": {},
     "output_type": "execute_result"
    }
   ],
   "source": [
    "aula"
   ]
  },
  {
   "cell_type": "code",
   "execution_count": 70,
   "id": "b76ceba5",
   "metadata": {},
   "outputs": [
    {
     "data": {
      "text/plain": [
       "'Chavez'"
      ]
     },
     "execution_count": 70,
     "metadata": {},
     "output_type": "execute_result"
    }
   ],
   "source": [
    "#Eliminar solo la ultima posición\n",
    "aula.pop()"
   ]
  },
  {
   "cell_type": "code",
   "execution_count": 71,
   "id": "5815f58a",
   "metadata": {},
   "outputs": [
    {
     "data": {
      "text/plain": [
       "['Alva', 'Laura', 'Huancas']"
      ]
     },
     "execution_count": 71,
     "metadata": {},
     "output_type": "execute_result"
    }
   ],
   "source": [
    "aula"
   ]
  },
  {
   "cell_type": "code",
   "execution_count": 72,
   "id": "ff132417",
   "metadata": {},
   "outputs": [
    {
     "name": "stdout",
     "output_type": "stream",
     "text": [
      "Alva\n",
      "Laura\n",
      "Huancas\n"
     ]
    }
   ],
   "source": [
    "for alumno in aula:\n",
    "    print(alumno)"
   ]
  },
  {
   "cell_type": "code",
   "execution_count": 73,
   "id": "aeccbdc1",
   "metadata": {},
   "outputs": [
    {
     "data": {
      "text/plain": [
       "['Alva', 'Laura', 'Huancas', 'Vilca', 'Gavino']"
      ]
     },
     "execution_count": 73,
     "metadata": {},
     "output_type": "execute_result"
    }
   ],
   "source": [
    "aula.append(\"Vilca\")\n",
    "aula.append(\"Gavino\")\n",
    "aula"
   ]
  },
  {
   "cell_type": "code",
   "execution_count": 74,
   "id": "7e7f4d02",
   "metadata": {},
   "outputs": [
    {
     "name": "stdout",
     "output_type": "stream",
     "text": [
      "Alva\n",
      "Laura\n",
      "Huancas\n",
      "Vilca\n",
      "Gavino\n"
     ]
    }
   ],
   "source": [
    "for alumno in aula:\n",
    "    print(alumno)"
   ]
  },
  {
   "cell_type": "code",
   "execution_count": 75,
   "id": "adb8c613",
   "metadata": {},
   "outputs": [
    {
     "data": {
      "text/plain": [
       "['Gavino', 'Vilca', 'Huancas', 'Laura', 'Alva']"
      ]
     },
     "execution_count": 75,
     "metadata": {},
     "output_type": "execute_result"
    }
   ],
   "source": [
    "# Para invertir la lista utilizamos reverse()\n",
    "# Invertir NO SIGNIFICA ordenar en forma descendente sin invertir la lista\n",
    "aula.reverse()\n",
    "aula"
   ]
  },
  {
   "cell_type": "code",
   "execution_count": 76,
   "id": "17f06f85",
   "metadata": {},
   "outputs": [
    {
     "data": {
      "text/plain": [
       "['Alva', 'Gavino', 'Huancas', 'Laura', 'Vilca']"
      ]
     },
     "execution_count": 76,
     "metadata": {},
     "output_type": "execute_result"
    }
   ],
   "source": [
    "# Para ordenar una lista utiulizamos sort()\n",
    "aula.sort()\n",
    "aula"
   ]
  },
  {
   "cell_type": "code",
   "execution_count": 77,
   "id": "7e528090",
   "metadata": {},
   "outputs": [
    {
     "data": {
      "text/plain": [
       "('Granados', 'Julca', 'Cusi', 'Marcos')"
      ]
     },
     "execution_count": 77,
     "metadata": {},
     "output_type": "execute_result"
    }
   ],
   "source": [
    "# 1.2 Tuplas\n",
    "# Es una colección de elementos ordenada(ordenado significa que tiene un índice) que no se pueden modificar,\n",
    "# Es INALTERABLE.\n",
    "# NO SE PUEDEN AGREGAR ELEMENTOS NI ELIMINAR.\n",
    "# SE IDENTIFICAN POR LOS PARENTÉSIS\n",
    "\n",
    "tupla_aula = ('Granados', 'Julca', 'Cusi','Marcos')\n",
    "tupla_aula\n"
   ]
  },
  {
   "cell_type": "code",
   "execution_count": 78,
   "id": "340d14b2",
   "metadata": {},
   "outputs": [
    {
     "name": "stdout",
     "output_type": "stream",
     "text": [
      "Granados\n",
      "Julca\n",
      "Cusi\n",
      "Marcos\n"
     ]
    }
   ],
   "source": [
    "# Se puede recorrer con una estructura repetitiva\n",
    "# Ejemplo: for\n",
    "for alumno in tupla_aula:\n",
    "    print(alumno)"
   ]
  },
  {
   "cell_type": "code",
   "execution_count": 79,
   "id": "cf107dbb",
   "metadata": {},
   "outputs": [
    {
     "data": {
      "text/plain": [
       "'Cusi'"
      ]
     },
     "execution_count": 79,
     "metadata": {},
     "output_type": "execute_result"
    }
   ],
   "source": [
    "# Se puede extraer un elemento por su posición\n",
    "tupla_aula[2]"
   ]
  },
  {
   "cell_type": "code",
   "execution_count": 80,
   "id": "0df63310",
   "metadata": {},
   "outputs": [
    {
     "data": {
      "text/plain": [
       "4"
      ]
     },
     "execution_count": 80,
     "metadata": {},
     "output_type": "execute_result"
    }
   ],
   "source": [
    "len(tupla_aula)"
   ]
  },
  {
   "cell_type": "code",
   "execution_count": 81,
   "id": "3652cc71",
   "metadata": {},
   "outputs": [
    {
     "data": {
      "text/plain": [
       "{'Cusi', 'Granados', 'Julca', 'Marcos'}"
      ]
     },
     "execution_count": 81,
     "metadata": {},
     "output_type": "execute_result"
    }
   ],
   "source": [
    "# 1.3 Conjuntos\n",
    "# Es una colección de elementos que no está ordenado(significa que no tiene un índice)\n",
    "conjunto_aula = {'Granados', 'Julca', 'Cusi', 'Marcos'}\n",
    "conjunto_aula"
   ]
  },
  {
   "cell_type": "code",
   "execution_count": 82,
   "id": "0bd3377f",
   "metadata": {},
   "outputs": [
    {
     "name": "stdout",
     "output_type": "stream",
     "text": [
      "Cusi\n",
      "Julca\n",
      "Granados\n",
      "Marcos\n"
     ]
    }
   ],
   "source": [
    "# Se puede recorrer utilizando una estructura repetitiva\n",
    "# Ejemplo: for\n",
    "for alumno in conjunto_aula:\n",
    "    print(alumno)"
   ]
  },
  {
   "cell_type": "code",
   "execution_count": 84,
   "id": "8a151b6f",
   "metadata": {},
   "outputs": [],
   "source": [
    "# Observación: No se puede acceder por posición porque no considera indexación\n",
    "# Ejemplo:\n",
    "# conjunto_aula[2] devolverá un mensaje de error"
   ]
  },
  {
   "cell_type": "code",
   "execution_count": 85,
   "id": "8d86c3b4",
   "metadata": {},
   "outputs": [
    {
     "data": {
      "text/plain": [
       "4"
      ]
     },
     "execution_count": 85,
     "metadata": {},
     "output_type": "execute_result"
    }
   ],
   "source": [
    "len(conjunto_aula)"
   ]
  },
  {
   "cell_type": "code",
   "execution_count": 87,
   "id": "538fcc25",
   "metadata": {},
   "outputs": [
    {
     "data": {
      "text/plain": [
       "{'Cusi', 'Granados', 'Julca', 'Marcos', 'Motta'}"
      ]
     },
     "execution_count": 87,
     "metadata": {},
     "output_type": "execute_result"
    }
   ],
   "source": [
    "# Para agregar utilizamos la finción add()\n",
    "conjunto_aula.add(\"Motta\")\n",
    "conjunto_aula"
   ]
  },
  {
   "cell_type": "code",
   "execution_count": 88,
   "id": "697b588f",
   "metadata": {},
   "outputs": [
    {
     "data": {
      "text/plain": [
       "{'Cusi', 'Julca', 'Marcos', 'Motta'}"
      ]
     },
     "execution_count": 88,
     "metadata": {},
     "output_type": "execute_result"
    }
   ],
   "source": [
    "conjunto_aula.remove(\"Granados\")\n",
    "conjunto_aula"
   ]
  },
  {
   "cell_type": "code",
   "execution_count": 89,
   "id": "61b2c5f7",
   "metadata": {},
   "outputs": [
    {
     "data": {
      "text/plain": [
       "{2: 'Cusi', '1': 'Julca', 'dos': 'Marcos', '0': 'Motta'}"
      ]
     },
     "execution_count": 89,
     "metadata": {},
     "output_type": "execute_result"
    }
   ],
   "source": [
    "# 1.4 Diccionarios\n",
    "# Es una colección de elementos, que están indexados, no estan ordenados y se pueden modificar\n",
    "# Son escritos entre llaves y están formados por pares de elementos      INDICE:VALOR\n",
    "\n",
    "diccionario_aula = {2:'Cusi', '1':'Julca','dos':'Marcos','0':'Motta'}\n",
    "diccionario_aula"
   ]
  },
  {
   "cell_type": "code",
   "execution_count": 90,
   "id": "20b3ab78",
   "metadata": {},
   "outputs": [
    {
     "data": {
      "text/plain": [
       "'Motta'"
      ]
     },
     "execution_count": 90,
     "metadata": {},
     "output_type": "execute_result"
    }
   ],
   "source": [
    "# Del Diccionario: diccionario_aula estraer el valor cuyo índice sea cero en String:\n",
    "diccionario_aula['0']"
   ]
  },
  {
   "cell_type": "code",
   "execution_count": 91,
   "id": "51bc75db",
   "metadata": {},
   "outputs": [
    {
     "data": {
      "text/plain": [
       "'Cusi'"
      ]
     },
     "execution_count": 91,
     "metadata": {},
     "output_type": "execute_result"
    }
   ],
   "source": [
    "diccionario_aula[2]"
   ]
  },
  {
   "cell_type": "code",
   "execution_count": 93,
   "id": "31908c01",
   "metadata": {},
   "outputs": [
    {
     "data": {
      "text/plain": [
       "'Marcos'"
      ]
     },
     "execution_count": 93,
     "metadata": {},
     "output_type": "execute_result"
    }
   ],
   "source": [
    "diccionario_aula[\"dos\"]"
   ]
  },
  {
   "cell_type": "code",
   "execution_count": 94,
   "id": "798921ef",
   "metadata": {},
   "outputs": [
    {
     "data": {
      "text/plain": [
       "{2: 'Cusi', '1': 'Julca', 'dos': 'Marcos', '0': 'Motta', '20': 'Serna'}"
      ]
     },
     "execution_count": 94,
     "metadata": {},
     "output_type": "execute_result"
    }
   ],
   "source": [
    "diccionario_aula['20']= \"Serna\"\n",
    "diccionario_aula"
   ]
  },
  {
   "cell_type": "code",
   "execution_count": 95,
   "id": "42c48b79",
   "metadata": {},
   "outputs": [
    {
     "data": {
      "text/plain": [
       "{'1': 'Julca', 'dos': 'Marcos', '0': 'Motta', '20': 'Serna'}"
      ]
     },
     "execution_count": 95,
     "metadata": {},
     "output_type": "execute_result"
    }
   ],
   "source": [
    "# Para eliminar un valor se utiliza pop()\n",
    "# Ejemplo: eliminar el elemnto de índice dos:\n",
    "diccionario_aula.pop(2)\n",
    "diccionario_aula"
   ]
  },
  {
   "cell_type": "code",
   "execution_count": 96,
   "id": "16573945",
   "metadata": {},
   "outputs": [
    {
     "data": {
      "text/plain": [
       "{'1': 'Julca', '0': 'Motta', '20': 'Serna'}"
      ]
     },
     "execution_count": 96,
     "metadata": {},
     "output_type": "execute_result"
    }
   ],
   "source": [
    "# Tambien se puede eliminar utilizando del()\n",
    "del (diccionario_aula[\"dos\"])\n",
    "diccionario_aula"
   ]
  },
  {
   "cell_type": "code",
   "execution_count": 97,
   "id": "be5f7e17",
   "metadata": {},
   "outputs": [
    {
     "name": "stdout",
     "output_type": "stream",
     "text": [
      "1\n",
      "0\n",
      "20\n"
     ]
    }
   ],
   "source": [
    "# Para recoorer todos los elemenos utilizamos for\n",
    "# Ejemplo: devuelve indices\n",
    "for indice in diccionario_aula:\n",
    "    print(indice)"
   ]
  },
  {
   "cell_type": "code",
   "execution_count": 98,
   "id": "1d42f5ce",
   "metadata": {},
   "outputs": [
    {
     "name": "stdout",
     "output_type": "stream",
     "text": [
      "1 Julca\n",
      "0 Motta\n",
      "20 Serna\n"
     ]
    }
   ],
   "source": [
    "# Para obtener el indice y el valor de cada elemento utilizamos items()\n",
    "for indice, valor in diccionario_aula.items():\n",
    "    print(indice, valor)"
   ]
  },
  {
   "cell_type": "code",
   "execution_count": null,
   "id": "7da3a492",
   "metadata": {},
   "outputs": [],
   "source": [
    "# 1.5 Ejercicio:\n",
    "# Dado una lista de [ALANYA, ALVA, AZAÑERO, CARRASCO, CCACCYA, COSME, CUSI, DIAZ, FLORES, GOMEZ, GOMEZ,\n",
    "# GRANADOS, HUANCAS, JULCA, LAURA, MOTTA, PINEDO, PONCE, QUINTANA,RODRIGUEZ, SERNA, VILCA, YAURICASA]\n",
    "# Diseñar un código que muestre si el apellido de un estudiante(ingreso por teclado forma parte de la lista)\n",
    "# Tiempo: 12 minutos\n"
   ]
  }
 ],
 "metadata": {
  "kernelspec": {
   "display_name": "Python 3 (ipykernel)",
   "language": "python",
   "name": "python3"
  },
  "language_info": {
   "codemirror_mode": {
    "name": "ipython",
    "version": 3
   },
   "file_extension": ".py",
   "mimetype": "text/x-python",
   "name": "python",
   "nbconvert_exporter": "python",
   "pygments_lexer": "ipython3",
   "version": "3.9.7"
  }
 },
 "nbformat": 4,
 "nbformat_minor": 5
}
