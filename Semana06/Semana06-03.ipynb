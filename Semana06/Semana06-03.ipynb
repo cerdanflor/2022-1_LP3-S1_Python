{
 "cells": [
  {
   "cell_type": "markdown",
   "id": "ed0f0e46",
   "metadata": {},
   "source": [
    "# SEMANA 03\n",
    "Mg. Flor Elizabeth Cerdán León\n"
   ]
  },
  {
   "cell_type": "raw",
   "id": "f5533f0a",
   "metadata": {},
   "source": [
    "Temas\n",
    "\n",
    "1. Colecciones de datos\n",
    "2. Estructuras Decisivas y Estructuras Repetitivas\n",
    "3. Funciones\n",
    "4. Clases y Objetos"
   ]
  },
  {
   "cell_type": "raw",
   "id": "2c3ae2be",
   "metadata": {},
   "source": [
    "3. Funciones"
   ]
  },
  {
   "cell_type": "code",
   "execution_count": 1,
   "id": "4e2c6f45",
   "metadata": {},
   "outputs": [],
   "source": [
    "# También conocidos como métodos\n",
    "\n",
    "# Para crear un método utilizamos: def\n",
    "# Tenemos 4 métodos:\n",
    "# - Métodos vacíos\n",
    "# - Métodos que reciben valores\n",
    "# - Métodos que devuelven un valor\n",
    "# - Métodos que reciben y devuelven valores"
   ]
  },
  {
   "cell_type": "code",
   "execution_count": 6,
   "id": "946fe83c",
   "metadata": {},
   "outputs": [],
   "source": [
    "# 3.1 Métodos vacíos\n",
    "# Explicación: No reciben valores(Parámetros)\n",
    "\n",
    "def saludo():\n",
    "    print(\"Bienvenidos al curso de LP3\")\n",
    "    print(\"***** PYTHON*****\")"
   ]
  },
  {
   "cell_type": "code",
   "execution_count": 7,
   "id": "0a760837",
   "metadata": {},
   "outputs": [
    {
     "name": "stdout",
     "output_type": "stream",
     "text": [
      "Bienvenidos al curso de LP3\n",
      "***** PYTHON*****\n"
     ]
    }
   ],
   "source": [
    "saludo()"
   ]
  },
  {
   "cell_type": "code",
   "execution_count": 8,
   "id": "619d9741",
   "metadata": {},
   "outputs": [],
   "source": [
    "# 3.2 Métodos que reciben valores\n",
    "\n",
    "def factorial(numero):\n",
    "    fac=1\n",
    "    for i in range(1, numero+1):\n",
    "        fac*=i\n",
    "        # fac = fac*i\n",
    "        print(f\"El factorial es: {fac}\")"
   ]
  },
  {
   "cell_type": "code",
   "execution_count": 10,
   "id": "e58bc431",
   "metadata": {},
   "outputs": [
    {
     "name": "stdout",
     "output_type": "stream",
     "text": [
      "Ingrese el Numero: 5\n",
      "El factorial es: 1\n",
      "El factorial es: 2\n",
      "El factorial es: 6\n",
      "El factorial es: 24\n",
      "El factorial es: 120\n"
     ]
    }
   ],
   "source": [
    "numero = int(input(\"Ingrese el Numero: \"))\n",
    "factorial(numero)"
   ]
  },
  {
   "cell_type": "code",
   "execution_count": 11,
   "id": "bafe462e",
   "metadata": {},
   "outputs": [],
   "source": [
    "# 3.3 Métodos que devuelven valores\n",
    "def saludo2():\n",
    "    mensaje = \"Bienvenidos a LP3\"\n",
    "    return mensaje"
   ]
  },
  {
   "cell_type": "code",
   "execution_count": 13,
   "id": "6f8023b8",
   "metadata": {},
   "outputs": [
    {
     "name": "stdout",
     "output_type": "stream",
     "text": [
      "Bienvenidos a LP3\n"
     ]
    }
   ],
   "source": [
    "print(saludo2())"
   ]
  },
  {
   "cell_type": "code",
   "execution_count": 14,
   "id": "e31f7a7b",
   "metadata": {},
   "outputs": [],
   "source": [
    "# 3.4 Métodos que reciben y devuelven valores\n",
    "\n",
    "def factorial2(numero):\n",
    "    fac = 1\n",
    "    for i in range(1, numero+1):\n",
    "        fac*=i\n",
    "    return fac"
   ]
  },
  {
   "cell_type": "code",
   "execution_count": 16,
   "id": "1e1e6cdf",
   "metadata": {},
   "outputs": [
    {
     "name": "stdout",
     "output_type": "stream",
     "text": [
      "Numero: 5\n",
      "El factorial de 5  es 120\n"
     ]
    }
   ],
   "source": [
    "numero = int(input(\"Numero: \"))\n",
    "print(f\"El factorial de {numero}  es {factorial2(numero)}\")"
   ]
  },
  {
   "cell_type": "code",
   "execution_count": null,
   "id": "7660ef3c",
   "metadata": {},
   "outputs": [],
   "source": [
    "Otro "
   ]
  }
 ],
 "metadata": {
  "kernelspec": {
   "display_name": "Python 3 (ipykernel)",
   "language": "python",
   "name": "python3"
  },
  "language_info": {
   "codemirror_mode": {
    "name": "ipython",
    "version": 3
   },
   "file_extension": ".py",
   "mimetype": "text/x-python",
   "name": "python",
   "nbconvert_exporter": "python",
   "pygments_lexer": "ipython3",
   "version": "3.9.7"
  }
 },
 "nbformat": 4,
 "nbformat_minor": 5
}
