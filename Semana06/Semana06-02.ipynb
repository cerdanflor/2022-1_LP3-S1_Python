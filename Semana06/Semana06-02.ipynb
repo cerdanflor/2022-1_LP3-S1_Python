{
 "cells": [
  {
   "cell_type": "markdown",
   "id": "9e668b76",
   "metadata": {},
   "source": [
    "# SEMANA 06\n",
    "Mg. Flor Elizabeth Cerdán León\n"
   ]
  },
  {
   "cell_type": "raw",
   "id": "aa0d8dfc",
   "metadata": {},
   "source": [
    "# Temas\n",
    "\n",
    "1. Colecciones de datos\n",
    "2. Estructuras Decisivas y Estructuras Repetitivas\n",
    "3. Funciones\n",
    "4. Clases y objetos"
   ]
  },
  {
   "cell_type": "raw",
   "id": "88de5295",
   "metadata": {},
   "source": [
    "2. Estructuras Decisivas y Estructuras Repetitivas"
   ]
  },
  {
   "cell_type": "code",
   "execution_count": 2,
   "id": "928b2906",
   "metadata": {},
   "outputs": [],
   "source": [
    "# 2.1 Estructuras Decisivas (if, elif, else)"
   ]
  },
  {
   "cell_type": "code",
   "execution_count": 3,
   "id": "8f700347",
   "metadata": {},
   "outputs": [],
   "source": [
    "# if\n",
    "# Problema: Dado el precio de 3 productos ingresados por el teclado, aplicar un descuento del 10% si la \n",
    "# venta es mayor o igual a 1000."
   ]
  },
  {
   "cell_type": "code",
   "execution_count": 5,
   "id": "f6ca7152",
   "metadata": {},
   "outputs": [
    {
     "name": "stdout",
     "output_type": "stream",
     "text": [
      "Producto 1: 250\n",
      "Producto 2: 250\n",
      "Producto 3: 600\n",
      "Total a pagar es: 990.0\n"
     ]
    }
   ],
   "source": [
    "#Solución\n",
    "P1 = float(input(\"Producto 1: \"))\n",
    "P2 = float(input(\"Producto 2: \"))\n",
    "P3 = float(input(\"Producto 3: \"))\n",
    "total = P1 + P2 + P3\n",
    "if total>=1000:\n",
    "    total*=0.9\n",
    "\n",
    "print(f\"Total a pagar es: {total}\")"
   ]
  },
  {
   "cell_type": "code",
   "execution_count": 6,
   "id": "d5cffbfd",
   "metadata": {},
   "outputs": [],
   "source": [
    "# if-else"
   ]
  },
  {
   "cell_type": "code",
   "execution_count": 7,
   "id": "a2e25691",
   "metadata": {},
   "outputs": [],
   "source": [
    "# Problema 01 (Recordando)\n",
    "# Dado una lista de [ALANYA, ALVA, AZAÑERO, CARRASCO, CCACCYA, COSME, CUSI, DIAZ, FLORES, GOMEZ, GOMEZ, GRANADOS, HUANCAS, JULCA, LAURA,MOTTA,PINEDO,PONCE,QUINTANA,RODRIGUEZ,SERNA,VILCA,YAURICASA]\n",
    "# Diseñar un código que muestre si el apellido de un estudiante (Ingresado por teclado) forma parte de la lista"
   ]
  },
  {
   "cell_type": "code",
   "execution_count": 9,
   "id": "282259bf",
   "metadata": {},
   "outputs": [
    {
     "name": "stdout",
     "output_type": "stream",
     "text": [
      "Ingrese nombre a buscar: CERDAN\n",
      "No está en la lista de LP3\n"
     ]
    }
   ],
   "source": [
    "# Solución\n",
    "LP3 = [\"ALANYA\", \"ALVA\", \"AZAÑERO\", \"CARRASCO\", \"CCACCYA\", \"COSME\", \"CUSI\", \"DIAZ\", \"FLORES\", \"GOMEZ\", \"GOMEZ\", \"GRANADOS\", \"HUANCAS\", \"JULCA\", \"LAURA\",\"MOTTA\",\"PINEDO\",\"PONCE\",\"QUINTANA\",\"RODRIGUEZ\",\"SERNA\",\"VILCA\",\"YAURICASA\"]\n",
    "apellido = input(\"Ingrese nombre a buscar: \")\n",
    "\n",
    "# Como los datos de la lista están en mayúscuila, utilizo upper()\n",
    "if apellido.upper() in LP3:\n",
    "    print(\"Si está en la lista de LP3\")\n",
    "else:\n",
    "    print(\"No está en la lista de LP3\")"
   ]
  },
  {
   "cell_type": "code",
   "execution_count": null,
   "id": "af41026e",
   "metadata": {},
   "outputs": [],
   "source": []
  },
  {
   "cell_type": "code",
   "execution_count": 11,
   "id": "9ac15fd5",
   "metadata": {},
   "outputs": [],
   "source": [
    "# Problema 02\n",
    "# Dado el importe total de ventas realizadas por un trabajador (ingresado por teclado, \n",
    "# categorizar que tipo de empleado es, considerando la siguiente tabla:\n",
    "\n",
    "# Categoria: A -> [0, 1000]\n",
    "# Categoria: B -> <1000, 2000]\n",
    "# Categoria: C -> <2000, 5000]\n",
    "# Categoría: D -> <5000, Mas]\n",
    "\n",
    "# Tiempo asignado: 12 minutos"
   ]
  },
  {
   "cell_type": "code",
   "execution_count": 12,
   "id": "3dc0a408",
   "metadata": {},
   "outputs": [
    {
     "name": "stdout",
     "output_type": "stream",
     "text": [
      "Importe de ventas realizadas: 56\n",
      "Categoria A\n"
     ]
    }
   ],
   "source": [
    "# Solución\n",
    "ventas = float(input(\"Importe de ventas realizadas: \"))\n",
    "if ventas < 0:\n",
    "    print(\"Datos erroneos\")\n",
    "else:    \n",
    "    if ventas<=1000:\n",
    "        print(\"Categoria A\")\n",
    "    else:\n",
    "        if ventas <=2000:\n",
    "            print(\"Categoria B\")\n",
    "        else:\n",
    "            if ventas <= 5000:\n",
    "                print(\"Categoria C\")\n",
    "            else:\n",
    "                print(\"Categoria D\")"
   ]
  },
  {
   "cell_type": "code",
   "execution_count": 13,
   "id": "4a7792d7",
   "metadata": {},
   "outputs": [],
   "source": [
    "# elif\n",
    "# Problema 03\n",
    "# Dado el importe total de ventas realizadas por un trabajador (ingresado por teclado, \n",
    "# categorizar que tipo de empleado es, considerando la siguiente tabla:\n",
    "\n",
    "# Categoria: A -> [0, 1000]\n",
    "# Categoria: B -> <1000, 2000]\n",
    "# Categoria: C -> <2000, 5000]\n",
    "# Categoría: D -> <5000, Mas]\n",
    "\n",
    "# Tiempo asignado: 12 minutos"
   ]
  },
  {
   "cell_type": "code",
   "execution_count": 16,
   "id": "3796b496",
   "metadata": {},
   "outputs": [
    {
     "name": "stdout",
     "output_type": "stream",
     "text": [
      "Importe de ventas realizadas: -56\n",
      "Datos erroneos\n"
     ]
    }
   ],
   "source": [
    "# Solución\n",
    "\n",
    "ventas = float(input(\"Importe de ventas realizadas: \"))\n",
    "if ventas < 0:\n",
    "    print(\"Datos erroneos\")\n",
    "elif ventas<=1000:\n",
    "    print(\"Categoria A\")\n",
    "elif ventas <=2000:\n",
    "    print(\"Categoria B\")\n",
    "elif ventas <= 5000:\n",
    "    print(\"Categoria C\")\n",
    "else:\n",
    "    print(\"Categoria D\")"
   ]
  },
  {
   "cell_type": "code",
   "execution_count": 17,
   "id": "094ddafa",
   "metadata": {},
   "outputs": [],
   "source": [
    "# Estructuras Repetitivas"
   ]
  },
  {
   "cell_type": "code",
   "execution_count": 18,
   "id": "35e41421",
   "metadata": {},
   "outputs": [],
   "source": [
    "# For"
   ]
  },
  {
   "cell_type": "code",
   "execution_count": 19,
   "id": "b075b02a",
   "metadata": {},
   "outputs": [],
   "source": [
    "# Problema 01: \n",
    "# Mostrar los elementos de una lista utilizando for\n"
   ]
  },
  {
   "cell_type": "code",
   "execution_count": 22,
   "id": "e070c2ef",
   "metadata": {},
   "outputs": [
    {
     "name": "stdout",
     "output_type": "stream",
     "text": [
      "Yauricasa\n",
      "Granados\n",
      "Alva\n",
      "Laura\n"
     ]
    }
   ],
   "source": [
    "# Solución\n",
    "aula = ['Yauricasa', 'Granados', 'Alva', 'Laura']\n",
    "# Por cada alumno que está en la lista, imprimir alumno\n",
    "\n",
    "for alumno in aula:\n",
    "    print(alumno)"
   ]
  },
  {
   "cell_type": "code",
   "execution_count": 23,
   "id": "ad263cf2",
   "metadata": {},
   "outputs": [],
   "source": [
    "# Problema 02\n",
    "# Dado una cadena ingresado por teclado, mostrar cada caracter de la cadena, utilizando la estructura for"
   ]
  },
  {
   "cell_type": "code",
   "execution_count": 24,
   "id": "6b022215",
   "metadata": {},
   "outputs": [
    {
     "name": "stdout",
     "output_type": "stream",
     "text": [
      "Ingrese cadena: En todo tiempo ama el amigo. Prov 17:17\n",
      "E\n",
      "n\n",
      " \n",
      "t\n",
      "o\n",
      "d\n",
      "o\n",
      " \n",
      "t\n",
      "i\n",
      "e\n",
      "m\n",
      "p\n",
      "o\n",
      " \n",
      "a\n",
      "m\n",
      "a\n",
      " \n",
      "e\n",
      "l\n",
      " \n",
      "a\n",
      "m\n",
      "i\n",
      "g\n",
      "o\n",
      ".\n",
      " \n",
      "P\n",
      "r\n",
      "o\n",
      "v\n",
      " \n",
      "1\n",
      "7\n",
      ":\n",
      "1\n",
      "7\n"
     ]
    }
   ],
   "source": [
    "# Solución\n",
    "\n",
    "cadena = input(\"Ingrese cadena: \")\n",
    "for caracter in cadena:\n",
    "    print(caracter)"
   ]
  },
  {
   "cell_type": "code",
   "execution_count": 25,
   "id": "7f2fa847",
   "metadata": {},
   "outputs": [
    {
     "data": {
      "text/plain": [
       "range(0, 5)"
      ]
     },
     "execution_count": 25,
     "metadata": {},
     "output_type": "execute_result"
    }
   ],
   "source": [
    "# Para generar rangos de los números range()\n",
    "range(5)"
   ]
  },
  {
   "cell_type": "code",
   "execution_count": 28,
   "id": "6ccf94a3",
   "metadata": {},
   "outputs": [
    {
     "name": "stdout",
     "output_type": "stream",
     "text": [
      "0\n",
      "1\n",
      "2\n",
      "3\n",
      "4\n",
      "5\n",
      "6\n",
      "7\n",
      "8\n",
      "9\n",
      "10\n"
     ]
    }
   ],
   "source": [
    "# Imprimir los número de 0 a 10, utilizando for\n",
    "for numero in range(11):\n",
    "    print (numero)"
   ]
  },
  {
   "cell_type": "code",
   "execution_count": 29,
   "id": "2db6175e",
   "metadata": {},
   "outputs": [
    {
     "name": "stdout",
     "output_type": "stream",
     "text": [
      "10\n",
      "12\n",
      "14\n",
      "16\n",
      "18\n",
      "20\n"
     ]
    }
   ],
   "source": [
    "# Problema 02\n",
    "# Imprimir los números de 10 a 20, utilizando for\n",
    "\n",
    "for numero in range(10, 22, 2):\n",
    "    print (numero)"
   ]
  },
  {
   "cell_type": "code",
   "execution_count": 30,
   "id": "7120f4f8",
   "metadata": {},
   "outputs": [],
   "source": [
    "# Problema 03\n",
    "# Dado una lista de números, utilizando el algoritmo de burbuja ordenarlos de menor a mayor\n",
    "\n",
    "# Codigo en java\n",
    "# package ordenamiento;\n",
    "# public class burbuja {\n",
    "#    public static void main(String[] args) {\n",
    "#        int temp; \n",
    "#        int lista[]={10,20,5,-10,100, 0, 50, 17, 2000,-1000,0};\n",
    "#        for(int i=0;i<lista.length-1;i++){\n",
    "#            for(int j=i+1; j<lista.length; j++){\n",
    "#                if(lista[i]>lista[j]){\n",
    "#                    temp = lista[i];\n",
    "#                    lista[i] = lista[j];\n",
    "#                    lista[j] = temp;\n",
    "#                }                              \n",
    "#            }            \n",
    "#        }\n",
    "#        System.out.println(\"Lista ordenada\");\n",
    "#        for(int a=0; a<lista.length; a++){\n",
    "#                    System.out.print(lista[a] + \" \");\n",
    "#        }\n",
    "#    }\n",
    "# }"
   ]
  },
  {
   "cell_type": "code",
   "execution_count": 31,
   "id": "f65677ce",
   "metadata": {},
   "outputs": [
    {
     "name": "stdout",
     "output_type": "stream",
     "text": [
      "Lista inicial: \n",
      "[10, 20, 5, -10, 100, 0, 50, 17, 2000, -1000, 0]\n",
      "Lista ordena:\n",
      "[-1000, -10, 0, 0, 5, 10, 17, 20, 50, 100, 2000]\n"
     ]
    }
   ],
   "source": [
    "# Solución\n",
    "print(\"Lista inicial: \")\n",
    "lista = [10, 20, 5, -10, 100, 0 , 50, 17, 2000,-1000,0]\n",
    "print(lista)\n",
    "i=0\n",
    "for i in range(0,len(lista)-1):    \n",
    "    for j in range(i+1,len(lista)):\n",
    "        if lista[i]>lista[j]:\n",
    "            temp = lista[i]\n",
    "            lista[i] = lista[j]\n",
    "            lista[j] = temp\n",
    "print(\"Lista ordena:\")\n",
    "print(lista)   "
   ]
  },
  {
   "cell_type": "code",
   "execution_count": 32,
   "id": "40f02427",
   "metadata": {},
   "outputs": [],
   "source": [
    "# while\n",
    "# Permite ejecutar un conjunto de acciones mientras se cumpla una condición"
   ]
  },
  {
   "cell_type": "code",
   "execution_count": null,
   "id": "66c0a577",
   "metadata": {},
   "outputs": [],
   "source": [
    "# Ejemplo:"
   ]
  },
  {
   "cell_type": "code",
   "execution_count": 33,
   "id": "4a934412",
   "metadata": {},
   "outputs": [
    {
     "name": "stdout",
     "output_type": "stream",
     "text": [
      "1\n",
      "2\n",
      "3\n",
      "4\n",
      "5\n",
      "6\n",
      "7\n",
      "8\n",
      "9\n",
      "10\n"
     ]
    }
   ],
   "source": [
    "numero = 1\n",
    "fin = 10\n",
    "while numero <= fin:\n",
    "    print(numero)\n",
    "    numero+= 1"
   ]
  }
 ],
 "metadata": {
  "kernelspec": {
   "display_name": "Python 3 (ipykernel)",
   "language": "python",
   "name": "python3"
  },
  "language_info": {
   "codemirror_mode": {
    "name": "ipython",
    "version": 3
   },
   "file_extension": ".py",
   "mimetype": "text/x-python",
   "name": "python",
   "nbconvert_exporter": "python",
   "pygments_lexer": "ipython3",
   "version": "3.9.7"
  }
 },
 "nbformat": 4,
 "nbformat_minor": 5
}
