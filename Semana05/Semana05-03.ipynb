{
 "cells": [
  {
   "cell_type": "markdown",
   "id": "4494b53d",
   "metadata": {},
   "source": [
    "# Semana 05\n",
    "Mg. Flor Elizabeth Cerdán León"
   ]
  },
  {
   "cell_type": "markdown",
   "id": "ef85555b",
   "metadata": {},
   "source": [
    "Temas:"
   ]
  },
  {
   "cell_type": "markdown",
   "id": "958a9882",
   "metadata": {},
   "source": [
    "1. Números\n",
    "2. Variables\n",
    "3. Manejo de Cadenas\n",
    "4. Ingreso de datos por teclado\n",
    "5. Operadores"
   ]
  },
  {
   "cell_type": "markdown",
   "id": "c9013354",
   "metadata": {},
   "source": [
    "Manejo de Cadenas"
   ]
  },
  {
   "cell_type": "code",
   "execution_count": 2,
   "id": "d3a067cc",
   "metadata": {},
   "outputs": [
    {
     "data": {
      "text/plain": [
       "'Universidad Nacional Tecnológica de Lima Sur'"
      ]
     },
     "execution_count": 2,
     "metadata": {},
     "output_type": "execute_result"
    }
   ],
   "source": [
    "cadena = \"Universidad Nacional Tecnológica de Lima Sur\"\n",
    "cadena"
   ]
  },
  {
   "cell_type": "code",
   "execution_count": 3,
   "id": "3ab117ec",
   "metadata": {},
   "outputs": [],
   "source": [
    "#Universidad Nacional Tecnologica de Lima Sur\n",
    "#01234.......                          -3-2-1"
   ]
  },
  {
   "cell_type": "code",
   "execution_count": 4,
   "id": "df1e79ff",
   "metadata": {},
   "outputs": [
    {
     "data": {
      "text/plain": [
       "'r'"
      ]
     },
     "execution_count": 4,
     "metadata": {},
     "output_type": "execute_result"
    }
   ],
   "source": [
    "cadena[5]"
   ]
  },
  {
   "cell_type": "code",
   "execution_count": 5,
   "id": "e7386d91",
   "metadata": {},
   "outputs": [
    {
     "data": {
      "text/plain": [
       "'d'"
      ]
     },
     "execution_count": 5,
     "metadata": {},
     "output_type": "execute_result"
    }
   ],
   "source": [
    "cadena[10]"
   ]
  },
  {
   "cell_type": "code",
   "execution_count": 6,
   "id": "0b4d0a7d",
   "metadata": {},
   "outputs": [
    {
     "data": {
      "text/plain": [
       "' '"
      ]
     },
     "execution_count": 6,
     "metadata": {},
     "output_type": "execute_result"
    }
   ],
   "source": [
    "# TAmbien considera los espacios\n",
    "cadena[11]"
   ]
  },
  {
   "cell_type": "code",
   "execution_count": 7,
   "id": "c1ee6838",
   "metadata": {},
   "outputs": [
    {
     "data": {
      "text/plain": [
       "'a'"
      ]
     },
     "execution_count": 7,
     "metadata": {},
     "output_type": "execute_result"
    }
   ],
   "source": [
    "cadena[-5]"
   ]
  },
  {
   "cell_type": "code",
   "execution_count": 8,
   "id": "a638c080",
   "metadata": {},
   "outputs": [
    {
     "data": {
      "text/plain": [
       "'T'"
      ]
     },
     "execution_count": 8,
     "metadata": {},
     "output_type": "execute_result"
    }
   ],
   "source": [
    "cadena[21]"
   ]
  },
  {
   "cell_type": "code",
   "execution_count": 9,
   "id": "535bb7b0",
   "metadata": {},
   "outputs": [
    {
     "data": {
      "text/plain": [
       "'T'"
      ]
     },
     "execution_count": 9,
     "metadata": {},
     "output_type": "execute_result"
    }
   ],
   "source": [
    "cadena[-23]"
   ]
  },
  {
   "cell_type": "code",
   "execution_count": 10,
   "id": "b767aef7",
   "metadata": {},
   "outputs": [
    {
     "data": {
      "text/plain": [
       "'versi'"
      ]
     },
     "execution_count": 10,
     "metadata": {},
     "output_type": "execute_result"
    }
   ],
   "source": [
    "# Para mostrar una subcadena [desde, hasta una antes]\n",
    "# En java era substring()\n",
    "cadena[3:8]"
   ]
  },
  {
   "cell_type": "code",
   "execution_count": 11,
   "id": "47f32ba0",
   "metadata": {},
   "outputs": [
    {
     "data": {
      "text/plain": [
       "44"
      ]
     },
     "execution_count": 11,
     "metadata": {},
     "output_type": "execute_result"
    }
   ],
   "source": [
    "# Para saber el tamaño de una cadena utilizamos len()\n",
    "# incluye espacios en blanco\n",
    "len(cadena)"
   ]
  },
  {
   "cell_type": "code",
   "execution_count": 12,
   "id": "11e0511f",
   "metadata": {},
   "outputs": [
    {
     "data": {
      "text/plain": [
       "'UNIVERSIDAD NACIONAL TECNOLÓGICA DE LIMA SUR'"
      ]
     },
     "execution_count": 12,
     "metadata": {},
     "output_type": "execute_result"
    }
   ],
   "source": [
    "# Para mostrar una cadena en mayúscula utilizamos upper()\n",
    "cadena.upper()"
   ]
  },
  {
   "cell_type": "code",
   "execution_count": 13,
   "id": "53744b52",
   "metadata": {},
   "outputs": [
    {
     "data": {
      "text/plain": [
       "'Universidad Nacional Tecnológica de Lima Sur'"
      ]
     },
     "execution_count": 13,
     "metadata": {},
     "output_type": "execute_result"
    }
   ],
   "source": [
    "# OJITO:.......... sOLO LO MUESTRA, PORQUE EL ORIGINAL SIGUE SIENDO IGUAL\n",
    "cadena"
   ]
  },
  {
   "cell_type": "code",
   "execution_count": 14,
   "id": "027510fc",
   "metadata": {},
   "outputs": [
    {
     "data": {
      "text/plain": [
       "'UNIVERSIDAD NACIONAL TECNOLÓGICA DE LIMA SUR'"
      ]
     },
     "execution_count": 14,
     "metadata": {},
     "output_type": "execute_result"
    }
   ],
   "source": [
    "# Si desearas cambiarlo harías:\n",
    "cadena = cadena.upper()\n",
    "cadena"
   ]
  },
  {
   "cell_type": "code",
   "execution_count": 15,
   "id": "28a20287",
   "metadata": {},
   "outputs": [
    {
     "data": {
      "text/plain": [
       "'universidad nacional tecnológica de lima sur'"
      ]
     },
     "execution_count": 15,
     "metadata": {},
     "output_type": "execute_result"
    }
   ],
   "source": [
    "# Para mostrar una cadena en minúsculas utilizamos lower()\n",
    "cadena.lower()"
   ]
  },
  {
   "cell_type": "code",
   "execution_count": 16,
   "id": "709a9bbc",
   "metadata": {},
   "outputs": [
    {
     "data": {
      "text/plain": [
       "['UNIVERSIDAD', 'NACIONAL', 'TECNOLÓGICA', 'DE', 'LIMA', 'SUR']"
      ]
     },
     "execution_count": 16,
     "metadata": {},
     "output_type": "execute_result"
    }
   ],
   "source": [
    "# Para generar una lista a partir de una cadena utilizamos split()\n",
    "cadena.split()"
   ]
  },
  {
   "cell_type": "code",
   "execution_count": 17,
   "id": "5ef88eae",
   "metadata": {},
   "outputs": [
    {
     "data": {
      "text/plain": [
       "['UNIVERSID', 'D N', 'CION', 'L TECNOLÓGIC', ' DE LIM', ' SUR']"
      ]
     },
     "execution_count": 17,
     "metadata": {},
     "output_type": "execute_result"
    }
   ],
   "source": [
    "# Para generar una lista utilizando un criterio de separación a partir de una cadena split()\n",
    "# en este caso vamos a generar una lista de toda la cadena, utilizando como criterio de separación la letra \"A\"\n",
    "cadena.split(\"A\")"
   ]
  },
  {
   "cell_type": "code",
   "execution_count": 18,
   "id": "dd1d58aa",
   "metadata": {},
   "outputs": [
    {
     "name": "stdout",
     "output_type": "stream",
     "text": [
      "Buenos días  Flor Cerdán\n"
     ]
    }
   ],
   "source": [
    "# Forma clásica, concatenar con +\n",
    "nombre = \" Flor Cerdán\"\n",
    "print(\"Buenos días \" + nombre)"
   ]
  },
  {
   "cell_type": "code",
   "execution_count": 19,
   "id": "90c395a2",
   "metadata": {},
   "outputs": [
    {
     "name": "stdout",
     "output_type": "stream",
     "text": [
      "Hola Pablo Lévano ya se que tienes 12 años\n"
     ]
    }
   ],
   "source": [
    "# Utilzando el .format()\n",
    "nombre = \"Pablo Lévano\"\n",
    "edad = 12\n",
    "print(\"Hola {} ya se que tienes {} años\".format(nombre, edad))"
   ]
  },
  {
   "cell_type": "code",
   "execution_count": 21,
   "id": "ebfe7ac5",
   "metadata": {},
   "outputs": [
    {
     "name": "stdout",
     "output_type": "stream",
     "text": [
      "10/3 es = 3.3333333333333335\n",
      "10/3 es = 3.333 \n"
     ]
    }
   ],
   "source": [
    "# Dar formato a números con muchos decimales\n",
    "resultado = 10/3\n",
    "print(\"10/3 es = {}\" .format(resultado))\n",
    "print(\"10/3 es = {r:1.3f} \".format(r = resultado))"
   ]
  },
  {
   "cell_type": "code",
   "execution_count": 23,
   "id": "ab5f3c61",
   "metadata": {},
   "outputs": [
    {
     "name": "stdout",
     "output_type": "stream",
     "text": [
      "Buenos días Daneli Lévano, ya sé que tienes 10 años\n"
     ]
    }
   ],
   "source": [
    "# Dar formato con f\n",
    "# la función f, está disponible desde la versión 3.6\n",
    "nombre = \"Daneli Lévano\"\n",
    "edad = 10\n",
    "print(f\"Buenos días {nombre}, ya sé que tienes {edad} años\")"
   ]
  },
  {
   "cell_type": "code",
   "execution_count": 26,
   "id": "3318f495",
   "metadata": {},
   "outputs": [
    {
     "name": "stdout",
     "output_type": "stream",
     "text": [
      "10/3 es = 3.3333333333333335 \n",
      "10/3 es = 3.333 \n"
     ]
    }
   ],
   "source": [
    "# Dar formato a números con muchos decimales con f\n",
    "resultado = 10/3\n",
    "print(f\"10/3 es = {resultado} \")\n",
    "print(f\"10/3 es = {resultado:1.3f} \")"
   ]
  }
 ],
 "metadata": {
  "kernelspec": {
   "display_name": "Python 3 (ipykernel)",
   "language": "python",
   "name": "python3"
  },
  "language_info": {
   "codemirror_mode": {
    "name": "ipython",
    "version": 3
   },
   "file_extension": ".py",
   "mimetype": "text/x-python",
   "name": "python",
   "nbconvert_exporter": "python",
   "pygments_lexer": "ipython3",
   "version": "3.9.7"
  }
 },
 "nbformat": 4,
 "nbformat_minor": 5
}
